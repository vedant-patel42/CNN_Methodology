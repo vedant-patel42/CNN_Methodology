{
  "nbformat": 4,
  "nbformat_minor": 0,
  "metadata": {
    "colab": {
      "provenance": []
    },
    "kernelspec": {
      "name": "ir",
      "display_name": "R"
    },
    "language_info": {
      "name": "R"
    },
    "accelerator": "GPU",
    "gpuClass": "standard"
  },
  "cells": [
    {
      "cell_type": "code",
      "source": [
        "install.packages(\"keras\")\n",
        "install.packages(\"tensorflow\")\n",
        "install.packages('randomForest')\n",
        "library(keras)\n",
        "library(tensorflow)\n",
        "library(randomForest)"
      ],
      "metadata": {
        "colab": {
          "base_uri": "https://localhost:8080/"
        },
        "id": "GyRH8-Dz9on8",
        "outputId": "375946bb-6e83-45a7-c4b0-06f1a9332e9e"
      },
      "execution_count": 1,
      "outputs": [
        {
          "output_type": "stream",
          "name": "stderr",
          "text": [
            "Installing package into ‘/usr/local/lib/R/site-library’\n",
            "(as ‘lib’ is unspecified)\n",
            "\n",
            "Installing package into ‘/usr/local/lib/R/site-library’\n",
            "(as ‘lib’ is unspecified)\n",
            "\n",
            "Installing package into ‘/usr/local/lib/R/site-library’\n",
            "(as ‘lib’ is unspecified)\n",
            "\n",
            "randomForest 4.7-1.1\n",
            "\n",
            "Type rfNews() to see new features/changes/bug fixes.\n",
            "\n"
          ]
        }
      ]
    },
    {
      "cell_type": "code",
      "execution_count": 2,
      "metadata": {
        "colab": {
          "base_uri": "https://localhost:8080/"
        },
        "id": "11FJ9Vu5837H",
        "outputId": "bf66bb81-193c-41ec-b8c7-e2628c86f2b5"
      },
      "outputs": [
        {
          "output_type": "stream",
          "name": "stderr",
          "text": [
            "Loaded Tensorflow version 2.9.2\n",
            "\n"
          ]
        }
      ],
      "source": [
        "cifar10 <- dataset_cifar10()"
      ]
    },
    {
      "cell_type": "code",
      "source": [
        "ctrain_x <- cifar10$train$x\n",
        "\n",
        "ctrain_y <- cifar10$train$y \n",
        "\n",
        "ctest_x <- cifar10$test$x\n",
        "\n",
        "ctest_y <- cifar10$test$y"
      ],
      "metadata": {
        "id": "D9EqqlM-9eBx"
      },
      "execution_count": 3,
      "outputs": []
    },
    {
      "cell_type": "code",
      "source": [
        "colnames(ctrain_y) <- c(\"Output\")\n"
      ],
      "metadata": {
        "id": "2MohmPaMns8U"
      },
      "execution_count": 4,
      "outputs": []
    },
    {
      "cell_type": "code",
      "source": [
        "ctrain_df_x = as.data.frame(ctrain_x)"
      ],
      "metadata": {
        "id": "js6pZ4Tgcv19"
      },
      "execution_count": 5,
      "outputs": []
    },
    {
      "cell_type": "code",
      "source": [
        "dim(ctrain_df_x)"
      ],
      "metadata": {
        "colab": {
          "base_uri": "https://localhost:8080/",
          "height": 34
        },
        "id": "BRYSNBdlbFsK",
        "outputId": "cf7867c0-42f8-4582-eced-085cec8ff061"
      },
      "execution_count": 6,
      "outputs": [
        {
          "output_type": "display_data",
          "data": {
            "text/html": [
              "<style>\n",
              ".list-inline {list-style: none; margin:0; padding: 0}\n",
              ".list-inline>li {display: inline-block}\n",
              ".list-inline>li:not(:last-child)::after {content: \"\\00b7\"; padding: 0 .5ex}\n",
              "</style>\n",
              "<ol class=list-inline><li>50000</li><li>3072</li></ol>\n"
            ],
            "text/markdown": "1. 50000\n2. 3072\n\n\n",
            "text/latex": "\\begin{enumerate*}\n\\item 50000\n\\item 3072\n\\end{enumerate*}\n",
            "text/plain": [
              "[1] 50000  3072"
            ]
          },
          "metadata": {}
        }
      ]
    },
    {
      "cell_type": "code",
      "source": [
        "ctrain_df_x <- as.matrix(ctrain_df_x)"
      ],
      "metadata": {
        "id": "iOtnzieqoa2T"
      },
      "execution_count": 7,
      "outputs": []
    },
    {
      "cell_type": "code",
      "source": [
        "ctrain = cbind(ctrain_df_x,ctrain_y)"
      ],
      "metadata": {
        "id": "mIYzJUiKoTmD"
      },
      "execution_count": 8,
      "outputs": []
    },
    {
      "cell_type": "code",
      "source": [
        "head(ctrain,5)"
      ],
      "metadata": {
        "colab": {
          "base_uri": "https://localhost:8080/",
          "height": 224
        },
        "id": "GiiJs9Suo4xo",
        "outputId": "dbd13a15-ea06-4b8e-bc44-6116e182c73d"
      },
      "execution_count": 9,
      "outputs": [
        {
          "output_type": "display_data",
          "data": {
            "text/html": [
              "<table class=\"dataframe\">\n",
              "<caption>A matrix: 5 × 3073 of type int</caption>\n",
              "<thead>\n",
              "\t<tr><th scope=col>V1</th><th scope=col>V2</th><th scope=col>V3</th><th scope=col>V4</th><th scope=col>V5</th><th scope=col>V6</th><th scope=col>V7</th><th scope=col>V8</th><th scope=col>V9</th><th scope=col>V10</th><th scope=col>⋯</th><th scope=col>V3064</th><th scope=col>V3065</th><th scope=col>V3066</th><th scope=col>V3067</th><th scope=col>V3068</th><th scope=col>V3069</th><th scope=col>V3070</th><th scope=col>V3071</th><th scope=col>V3072</th><th scope=col>Output</th></tr>\n",
              "</thead>\n",
              "<tbody>\n",
              "\t<tr><td> 59</td><td> 16</td><td> 25</td><td> 33</td><td> 50</td><td> 71</td><td> 97</td><td>115</td><td>137</td><td>154</td><td>⋯</td><td> 99</td><td> 75</td><td> 58</td><td> 48</td><td> 26</td><td> 9</td><td>20</td><td> 34</td><td> 72</td><td>6</td></tr>\n",
              "\t<tr><td>154</td><td>140</td><td>140</td><td>136</td><td>129</td><td>136</td><td>146</td><td>162</td><td>127</td><td> 71</td><td>⋯</td><td>160</td><td>161</td><td>107</td><td>107</td><td>133</td><td>94</td><td>91</td><td>131</td><td>144</td><td>9</td></tr>\n",
              "\t<tr><td>255</td><td>255</td><td>255</td><td>255</td><td>255</td><td>255</td><td>255</td><td>255</td><td>255</td><td>255</td><td>⋯</td><td> 81</td><td> 88</td><td> 95</td><td> 84</td><td> 78</td><td>86</td><td>79</td><td> 82</td><td> 84</td><td>9</td></tr>\n",
              "\t<tr><td> 28</td><td> 33</td><td> 39</td><td> 54</td><td> 74</td><td> 76</td><td> 77</td><td> 79</td><td> 52</td><td> 45</td><td>⋯</td><td> 40</td><td> 47</td><td> 60</td><td> 43</td><td> 47</td><td>56</td><td>52</td><td> 55</td><td> 46</td><td>4</td></tr>\n",
              "\t<tr><td>170</td><td>168</td><td>154</td><td> 96</td><td> 80</td><td> 71</td><td> 62</td><td> 56</td><td> 52</td><td> 45</td><td>⋯</td><td> 83</td><td> 65</td><td> 62</td><td> 37</td><td> 19</td><td>33</td><td>68</td><td> 78</td><td> 80</td><td>1</td></tr>\n",
              "</tbody>\n",
              "</table>\n"
            ],
            "text/markdown": "\nA matrix: 5 × 3073 of type int\n\n| V1 | V2 | V3 | V4 | V5 | V6 | V7 | V8 | V9 | V10 | ⋯ | V3064 | V3065 | V3066 | V3067 | V3068 | V3069 | V3070 | V3071 | V3072 | Output |\n|---|---|---|---|---|---|---|---|---|---|---|---|---|---|---|---|---|---|---|---|---|\n|  59 |  16 |  25 |  33 |  50 |  71 |  97 | 115 | 137 | 154 | ⋯ |  99 |  75 |  58 |  48 |  26 |  9 | 20 |  34 |  72 | 6 |\n| 154 | 140 | 140 | 136 | 129 | 136 | 146 | 162 | 127 |  71 | ⋯ | 160 | 161 | 107 | 107 | 133 | 94 | 91 | 131 | 144 | 9 |\n| 255 | 255 | 255 | 255 | 255 | 255 | 255 | 255 | 255 | 255 | ⋯ |  81 |  88 |  95 |  84 |  78 | 86 | 79 |  82 |  84 | 9 |\n|  28 |  33 |  39 |  54 |  74 |  76 |  77 |  79 |  52 |  45 | ⋯ |  40 |  47 |  60 |  43 |  47 | 56 | 52 |  55 |  46 | 4 |\n| 170 | 168 | 154 |  96 |  80 |  71 |  62 |  56 |  52 |  45 | ⋯ |  83 |  65 |  62 |  37 |  19 | 33 | 68 |  78 |  80 | 1 |\n\n",
            "text/latex": "A matrix: 5 × 3073 of type int\n\\begin{tabular}{lllllllllllllllllllll}\n V1 & V2 & V3 & V4 & V5 & V6 & V7 & V8 & V9 & V10 & ⋯ & V3064 & V3065 & V3066 & V3067 & V3068 & V3069 & V3070 & V3071 & V3072 & Output\\\\\n\\hline\n\t  59 &  16 &  25 &  33 &  50 &  71 &  97 & 115 & 137 & 154 & ⋯ &  99 &  75 &  58 &  48 &  26 &  9 & 20 &  34 &  72 & 6\\\\\n\t 154 & 140 & 140 & 136 & 129 & 136 & 146 & 162 & 127 &  71 & ⋯ & 160 & 161 & 107 & 107 & 133 & 94 & 91 & 131 & 144 & 9\\\\\n\t 255 & 255 & 255 & 255 & 255 & 255 & 255 & 255 & 255 & 255 & ⋯ &  81 &  88 &  95 &  84 &  78 & 86 & 79 &  82 &  84 & 9\\\\\n\t  28 &  33 &  39 &  54 &  74 &  76 &  77 &  79 &  52 &  45 & ⋯ &  40 &  47 &  60 &  43 &  47 & 56 & 52 &  55 &  46 & 4\\\\\n\t 170 & 168 & 154 &  96 &  80 &  71 &  62 &  56 &  52 &  45 & ⋯ &  83 &  65 &  62 &  37 &  19 & 33 & 68 &  78 &  80 & 1\\\\\n\\end{tabular}\n",
            "text/plain": [
              "     V1  V2  V3  V4  V5  V6  V7  V8  V9  V10 ⋯ V3064 V3065 V3066 V3067 V3068\n",
              "[1,]  59  16  25  33  50  71  97 115 137 154 ⋯  99    75    58    48    26  \n",
              "[2,] 154 140 140 136 129 136 146 162 127  71 ⋯ 160   161   107   107   133  \n",
              "[3,] 255 255 255 255 255 255 255 255 255 255 ⋯  81    88    95    84    78  \n",
              "[4,]  28  33  39  54  74  76  77  79  52  45 ⋯  40    47    60    43    47  \n",
              "[5,] 170 168 154  96  80  71  62  56  52  45 ⋯  83    65    62    37    19  \n",
              "     V3069 V3070 V3071 V3072 Output\n",
              "[1,]  9    20     34    72   6     \n",
              "[2,] 94    91    131   144   9     \n",
              "[3,] 86    79     82    84   9     \n",
              "[4,] 56    52     55    46   4     \n",
              "[5,] 33    68     78    80   1     "
            ]
          },
          "metadata": {}
        }
      ]
    },
    {
      "cell_type": "code",
      "source": [
        "\n",
        "ctrain <- as.data.frame(ctrain)\n",
        "\n",
        "ctrain <- head(ctrain,10000) "
      ],
      "metadata": {
        "id": "qdLUXGu4qy4G"
      },
      "execution_count": 19,
      "outputs": []
    },
    {
      "cell_type": "code",
      "source": [
        "ctrain$Output <- as.factor(ctrain$Output)"
      ],
      "metadata": {
        "id": "rWdL3zyP0iww"
      },
      "execution_count": 20,
      "outputs": []
    },
    {
      "cell_type": "code",
      "source": [
        "rf <- randomForest(ctrain$Output ~ .,data = ctrain,ntree = 100, importance = TRUE,mtry = 5,metric = \"Acurracy\")"
      ],
      "metadata": {
        "id": "gkLbK2mTbr8G"
      },
      "execution_count": 21,
      "outputs": []
    },
    {
      "cell_type": "code",
      "source": [
        "rf"
      ],
      "metadata": {
        "id": "KhOipaPEwNGa",
        "colab": {
          "base_uri": "https://localhost:8080/",
          "height": 374
        },
        "outputId": "ae390e6a-2c23-4f19-d4b9-e5bbe66b4858"
      },
      "execution_count": 22,
      "outputs": [
        {
          "output_type": "display_data",
          "data": {
            "text/plain": [
              "\n",
              "Call:\n",
              " randomForest(formula = ctrain$Output ~ ., data = ctrain, ntree = 100,      importance = TRUE, mtry = 5, metric = \"Acurracy\") \n",
              "               Type of random forest: classification\n",
              "                     Number of trees: 100\n",
              "No. of variables tried at each split: 5\n",
              "\n",
              "        OOB estimate of  error rate: 69.4%\n",
              "Confusion matrix:\n",
              "   0  1  2  3  4  5  6  7  8  9 class.error\n",
              "0 41  7  9  3  2  0  6  4 23  7   0.5980392\n",
              "1  5 38  7  4  9  4  9  6 14 16   0.6607143\n",
              "2 16  6 22  5 20  6 12  4  4  4   0.7777778\n",
              "3  9  5  9 14  7 11 19  8  3  7   0.8478261\n",
              "4  5  2 14  4 28  8 24  4  6  4   0.7171717\n",
              "5  3  7 12  8 14 17  9  6  4  5   0.8000000\n",
              "6  2  8 12  8 26  3 34  7  0  7   0.6822430\n",
              "7  6 10  6  4 16 10 10 21  6 13   0.7941176\n",
              "8 20  5  2  3  5  1  1  6 48  8   0.5151515\n",
              "9  8 15  5  2  2  3  7  7 11 43   0.5825243"
            ]
          },
          "metadata": {}
        }
      ]
    },
    {
      "cell_type": "code",
      "source": [],
      "metadata": {
        "id": "PEzmApqxyZOr"
      },
      "execution_count": 14,
      "outputs": []
    }
  ]
}