{
  "nbformat": 4,
  "nbformat_minor": 2,
  "metadata": {
    "colab": {
      "provenance": []
    },
    "kernelspec": {
      "name": "ir",
      "display_name": "R"
    },
    "language_info": {
      "name": "R"
    }
  },
  "cells": [
    {
      "cell_type": "markdown",
      "source": [
        "### Packages and Libraries"
      ],
      "metadata": {
        "id": "BfEXYJDBmilJ"
      }
    },
    {
      "cell_type": "code",
      "execution_count": 4,
      "source": [
        "install.packages(\"keras\")\n",
        "install.packages(\"tensorflow\")\n",
        "install.packages(\"caret\")"
      ],
      "outputs": [
        {
          "output_type": "stream",
          "name": "stderr",
          "text": [
            "Installing package into ‘/usr/local/lib/R/site-library’\n",
            "(as ‘lib’ is unspecified)\n",
            "\n",
            "also installing the dependencies ‘Rcpp’, ‘RcppTOML’, ‘here’, ‘png’, ‘config’, ‘tfautograph’, ‘reticulate’, ‘tensorflow’, ‘tfruns’, ‘zeallot’\n",
            "\n",
            "\n",
            "Installing package into ‘/usr/local/lib/R/site-library’\n",
            "(as ‘lib’ is unspecified)\n",
            "\n",
            "Installing package into ‘/usr/local/lib/R/site-library’\n",
            "(as ‘lib’ is unspecified)\n",
            "\n",
            "also installing the dependencies ‘listenv’, ‘parallelly’, ‘future’, ‘globals’, ‘future.apply’, ‘numDeriv’, ‘progressr’, ‘SQUAREM’, ‘lava’, ‘prodlim’, ‘proxy’, ‘iterators’, ‘clock’, ‘gower’, ‘hardhat’, ‘ipred’, ‘timeDate’, ‘e1071’, ‘foreach’, ‘ModelMetrics’, ‘plyr’, ‘pROC’, ‘recipes’, ‘reshape2’\n",
            "\n",
            "\n"
          ]
        }
      ],
      "metadata": {
        "colab": {
          "base_uri": "https://localhost:8080/"
        },
        "id": "a63i6KvOx2Q9",
        "outputId": "0154257c-9fbc-4bd5-dc22-f4d15bb62248"
      }
    },
    {
      "cell_type": "code",
      "execution_count": 6,
      "source": [
        "library(keras)\n",
        "library(tensorflow)\n",
        "library(dbplyr)\n",
        "library(dplyr)"
      ],
      "outputs": [],
      "metadata": {
        "id": "5kDg-tkGx-Iy"
      }
    },
    {
      "cell_type": "markdown",
      "source": [
        "### Load Dataset"
      ],
      "metadata": {
        "id": "5mCPggaqmoyw"
      }
    },
    {
      "cell_type": "code",
      "execution_count": 4,
      "source": [
        "cifar10 <- dataset_cifar10()"
      ],
      "outputs": [
        {
          "output_type": "stream",
          "name": "stderr",
          "text": [
            "Loaded Tensorflow version 2.9.2\n",
            "\n"
          ]
        }
      ],
      "metadata": {
        "colab": {
          "base_uri": "https://localhost:8080/"
        },
        "id": "G_tEDRsSx_xd",
        "outputId": "e80e23ff-556c-4a6c-f6c5-1b5d3a2e75fa"
      }
    },
    {
      "cell_type": "code",
      "execution_count": 53,
      "source": [
        "ctrain_x <- cifar10$train$x\n",
        "ctrain_y <- to_categorical(cifar10$train$y, num_classes = 10)\n",
        "ctest_x <- cifar10$test$x\n",
        "ctest_y <- cifar10$test$y\n",
        "\n",
        "ctrain_x <- grayscale(ctrain_x)\n",
        "ctest_x <- grayscale(ctest_x)"
      ],
      "outputs": [],
      "metadata": {
        "id": "sZ_6rAlVyBJ1"
      }
    },
    {
      "cell_type": "code",
      "execution_count": 54,
      "source": [
        "str(ctrain_x)"
      ],
      "outputs": [
        {
          "output_type": "stream",
          "name": "stdout",
          "text": [
            " num [1:50000, 1:32, 1:32, 1] 61.2 171.2 255 24.2 179 ...\n"
          ]
        }
      ],
      "metadata": {
        "colab": {
          "base_uri": "https://localhost:8080/"
        },
        "id": "vx-4EeHJBId9",
        "outputId": "d9bca4bf-dd07-4710-a81a-a703251c787e"
      }
    },
    {
      "cell_type": "code",
      "execution_count": 55,
      "source": [
        "str(ctest_x)"
      ],
      "outputs": [
        {
          "output_type": "stream",
          "name": "stdout",
          "text": [
            " num [1:10000, 1:32, 1:32, 1] 118.9 235 183.9 154.9 65.1 ...\n"
          ]
        }
      ],
      "metadata": {
        "colab": {
          "base_uri": "https://localhost:8080/"
        },
        "id": "BLeTVLb_Bal0",
        "outputId": "c29d428b-5ad9-48e4-8e5f-490faa5ee64b"
      }
    },
    {
      "cell_type": "markdown",
      "source": [
        "### Preprocessing"
      ],
      "metadata": {
        "id": "oCyeDLoZmt1s"
      }
    },
    {
      "cell_type": "code",
      "execution_count": 58,
      "source": [
        "x_train <- array_reshape(ctrain_x, c(nrow(ctrain_x), 32, 32, 1))\n",
        "x_test <- array_reshape(ctest_x, c(nrow(ctest_x), 32, 32, 1))\n",
        "input_shape <- c(32, 32, 1)"
      ],
      "outputs": [],
      "metadata": {
        "id": "cLVXE44Pn9w-"
      }
    },
    {
      "cell_type": "code",
      "execution_count": 60,
      "source": [
        "x_train <- x_train / 255\n",
        "x_test <- x_test / 255"
      ],
      "outputs": [],
      "metadata": {
        "id": "PUEYQDsZBkv0"
      }
    },
    {
      "cell_type": "markdown",
      "source": [
        "### CNN Model"
      ],
      "metadata": {
        "id": "eqBIOlvamwsO"
      }
    },
    {
      "cell_type": "code",
      "execution_count": 61,
      "source": [
        "cmodel3 <- keras_model_sequential() %>% \n",
        "  layer_conv_2d(filters = 32,\n",
        "                kernel_size = c(3,3),\n",
        "                padding = \"same\",\n",
        "                activation = \"relu\",\n",
        "                input_shape = c(32,32, 1)\n",
        "                ) %>%\n",
        "  layer_conv_2d(filters = 32,\n",
        "                kernel_size = c(3,3),\n",
        "                padding = \"same\",\n",
        "                activation = \"relu\",\n",
        "                input_shape = c(32,32, 1)\n",
        "                ) %>%  \n",
        "  layer_max_pooling_2d(pool_size = c(2,2)) %>%\n",
        "  layer_dropout(0.25) %>%\n",
        "  layer_conv_2d(filters = 64,\n",
        "                kernel_size = c(3,3),\n",
        "                padding = \"same\",\n",
        "                activation = \"relu\",\n",
        "                input_shape = c(32,32, 1)\n",
        "                ) %>%\n",
        "  layer_max_pooling_2d(pool_size = c(2,2)) %>%\n",
        "  layer_dropout(0.25) %>%\n",
        "  layer_conv_2d(filters = 128,\n",
        "                kernel_size = c(3,3),\n",
        "                padding = \"same\",\n",
        "                activation = \"relu\",\n",
        "                input_shape = c(32,32, 1)\n",
        "                ) %>%\n",
        "  layer_max_pooling_2d(pool_size = c(2,2)) %>%\n",
        "  layer_dropout(0.25) %>%\n",
        "  layer_flatten() %>%\n",
        "  layer_dense(units = 1024,\n",
        "              activation = \"relu\") %>%\n",
        "  layer_dense(units = 512,\n",
        "              activation = \"relu\") %>%\n",
        "  layer_dropout(0.25) %>%\n",
        "  layer_dense(name = \"Output\",\n",
        "              units = 10,\n",
        "              activation = \"softmax\")\n",
        "  \n",
        "cmodel3 %>% compile(loss = \"categorical_crossentropy\",optimizer = optimizer_adam(learning_rate = 0.001),metrics = \"accuracy\")\n",
        "chistory3 <- cmodel3 %>% fit(x_train,ctrain_y,epoch = 30,batch = 1000,validation_split = 0.2)\n",
        "saveRDS(chistory3,\"cnn_history.RDS\",)\n",
        "save_model_hdf5(cmodel3,\"cnn_model.hdf5\")"
      ],
      "outputs": [],
      "metadata": {
        "id": "CGTsw8vgBp6h"
      }
    },
    {
      "cell_type": "code",
      "execution_count": null,
      "source": [
        "#Uncomment the following codes if you are using saved model and history\n",
        "\n",
        "# chistory3 = readRDS(\"./history/cnn_history.RDS\")\n",
        "# cmodel3 = load_model_hdf5(\"./model/cnn_model.hdf5\")"
      ],
      "outputs": [],
      "metadata": {
        "id": "YCilFrESw61v"
      }
    },
    {
      "cell_type": "code",
      "execution_count": 8,
      "source": [
        "plot(chistory3)"
      ],
      "outputs": [
        {
          "output_type": "display_data",
          "data": {
            "image/png": "[encoded data removed]",
            "text/plain": [
              "plot without title"
            ]
          },
          "metadata": {
            "image/png": {
              "width": 420,
              "height": 420
            }
          }
        }
      ],
      "metadata": {
        "colab": {
          "base_uri": "https://localhost:8080/",
          "height": 437
        },
        "id": "uiMdTuyWCXHN",
        "outputId": "b3efb416-bec9-4a8b-da1c-8b73e490715d"
      }
    },
    {
      "cell_type": "code",
      "execution_count": 9,
      "source": [
        "chistory3"
      ],
      "outputs": [
        {
          "output_type": "display_data",
          "data": {
            "text/plain": [
              "\n",
              "Final epoch (plot to see history):\n",
              "        loss: 0.2583\n",
              "    accuracy: 0.9103\n",
              "    val_loss: 0.8525\n",
              "val_accuracy: 0.7464 "
            ]
          },
          "metadata": {}
        }
      ],
      "metadata": {
        "colab": {
          "base_uri": "https://localhost:8080/",
          "height": 124
        },
        "id": "YorKINWDCXFJ",
        "outputId": "f765e3ed-f9b1-45e4-8ff0-07db8f73e3e9"
      }
    },
    {
      "cell_type": "code",
      "execution_count": 68,
      "source": [
        "cmodel3 %>% evaluate(x_test, to_categorical(cifar10$test$y, num_classes = 10))"
      ],
      "outputs": [
        {
          "output_type": "display_data",
          "data": {
            "text/html": [
              "<style>\n",
              ".dl-inline {width: auto; margin:0; padding: 0}\n",
              ".dl-inline>dt, .dl-inline>dd {float: none; width: auto; display: inline-block}\n",
              ".dl-inline>dt::after {content: \":\\0020\"; padding-right: .5ex}\n",
              ".dl-inline>dt:not(:first-of-type) {padding-left: .5ex}\n",
              "</style><dl class=dl-inline><dt>loss</dt><dd>0.892190635204315</dd><dt>accuracy</dt><dd>0.739000022411346</dd></dl>\n"
            ],
            "text/latex": [
              "\\begin{description*}\n",
              "\\item[loss] 0.892190635204315\n",
              "\\item[accuracy] 0.739000022411346\n",
              "\\end{description*}\n"
            ],
            "text/markdown": [
              "loss\n",
              ":   0.892190635204315accuracy\n",
              ":   0.739000022411346\n",
              "\n"
            ],
            "text/plain": [
              "     loss  accuracy \n",
              "0.8921906 0.7390000 "
            ]
          },
          "metadata": {}
        }
      ],
      "metadata": {
        "colab": {
          "base_uri": "https://localhost:8080/",
          "height": 34
        },
        "id": "sku98jdWCXC6",
        "outputId": "b5e2ffbc-ea1a-438d-b0bf-56c2e9210554"
      }
    },
    {
      "cell_type": "code",
      "execution_count": 71,
      "source": [
        "# model prediction\n",
        "cnn_pred <- cmodel3 %>% predict(x_test) %>% k_argmax()\n",
        "head(cnn_pred, n=50)"
      ],
      "outputs": [
        {
          "output_type": "display_data",
          "data": {
            "text/plain": [
              "tf.Tensor(\n",
              "[3 8 8 0 6 6 9 6 3 9 0 9 4 7 9 8 5 7 8 6 7 0 4 9 4 5 5 0 9 6 6 5 4 5 9 8 7\n",
              " 9 9 5 4 6 7 6 0 9 3 3 7 6], shape=(50), dtype=int64)"
            ]
          },
          "metadata": {}
        }
      ],
      "metadata": {
        "colab": {
          "base_uri": "https://localhost:8080/",
          "height": 71
        },
        "id": "ljlz9_eWCW4Y",
        "outputId": "54c44c42-0b1a-428c-a054-d4bffb764ec1"
      }
    },
    {
      "cell_type": "markdown",
      "source": [
        "### Evaluation"
      ],
      "metadata": {
        "id": "zI4-f4dqwspq"
      }
    },
    {
      "cell_type": "code",
      "execution_count": 119,
      "source": [
        "decode <- function(x){\n",
        "  case_when(x == 0 ~ \"airplane\",\n",
        "            x == 1 ~ \"automobile\",\n",
        "            x == 2 ~ \"bird\",\n",
        "            x == 3 ~ \"cat\",\n",
        "            x == 4 ~ \"deer\",\n",
        "            x == 5 ~ \"dog\",\n",
        "            x == 6 ~ \"frog\",\n",
        "            x == 7 ~ \"horse\",\n",
        "            x == 8 ~ \"ship\",\n",
        "            x == 9 ~ \"truck\"\n",
        "            )\n",
        "}"
      ],
      "outputs": [],
      "metadata": {
        "id": "bl86V9PKzei1"
      }
    },
    {
      "cell_type": "code",
      "execution_count": 125,
      "source": [
        "pred_test <- sapply(as.array(cnn_pred), decode)"
      ],
      "outputs": [],
      "metadata": {
        "id": "fh1USK5LiRfa"
      }
    },
    {
      "cell_type": "code",
      "execution_count": 126,
      "source": [
        "true_class <- sapply(as.array(ctest_y), decode)"
      ],
      "outputs": [],
      "metadata": {
        "id": "f4SDNSUtgEQl"
      }
    },
    {
      "cell_type": "code",
      "execution_count": 127,
      "source": [
        "mean(pred_test==true_class)"
      ],
      "outputs": [
        {
          "output_type": "display_data",
          "data": {
            "text/html": [
              "0.739"
            ],
            "text/latex": [
              "0.739"
            ],
            "text/markdown": [
              "0.739"
            ],
            "text/plain": [
              "[1] 0.739"
            ]
          },
          "metadata": {}
        }
      ],
      "metadata": {
        "colab": {
          "base_uri": "https://localhost:8080/",
          "height": 34
        },
        "id": "VswjyWfygEEF",
        "outputId": "bcfa0fb6-972e-4d14-b5e9-0298213165f2"
      }
    },
    {
      "cell_type": "code",
      "execution_count": 128,
      "source": [
        "ctest_y <- sapply(cifar10$test$y,decode)\n",
        "\n",
        "\n",
        "caret::confusionMatrix(as.factor(pred_test),\n",
        "                       as.factor(ctest_y))"
      ],
      "outputs": [
        {
          "output_type": "stream",
          "name": "stderr",
          "text": [
            "Warning message in system(\"timedatectl\", intern = TRUE):\n",
            "“running command 'timedatectl' had status 1”\n"
          ]
        },
        {
          "output_type": "display_data",
          "data": {
            "text/plain": [
              "Confusion Matrix and Statistics\n",
              "\n",
              "            Reference\n",
              "Prediction   airplane automobile bird cat deer dog frog horse ship truck\n",
              "  airplane        766          7   53  21   12  12    8     9   43    21\n",
              "  automobile       23        877    7  14    5   4    6     4   35    77\n",
              "  bird             46          5  636  77   65  53   32    40   22     9\n",
              "  cat              14          4   62 530   56 177   28    47   11    12\n",
              "  deer             40          3  101  74  698  54   27    59   16    12\n",
              "  dog               5          5   39 111   39 601   13    38    6     9\n",
              "  frog             13         18   68  96   76  48  862    12   14    15\n",
              "  horse             5          1   16  32   43  36    2   768    4    12\n",
              "  ship             62         16   13  17    6   9   15     6  841    22\n",
              "  truck            26         64    5  28    0   6    7    17    8   811\n",
              "\n",
              "Overall Statistics\n",
              "                                          \n",
              "               Accuracy : 0.739           \n",
              "                 95% CI : (0.7303, 0.7476)\n",
              "    No Information Rate : 0.1             \n",
              "    P-Value [Acc > NIR] : < 2.2e-16       \n",
              "                                          \n",
              "                  Kappa : 0.71            \n",
              "                                          \n",
              " Mcnemar's Test P-Value : < 2.2e-16       \n",
              "\n",
              "Statistics by Class:\n",
              "\n",
              "                     Class: airplane Class: automobile Class: bird Class: cat\n",
              "Sensitivity                   0.7660            0.8770      0.6360     0.5300\n",
              "Specificity                   0.9793            0.9806      0.9612     0.9543\n",
              "Pos Pred Value                0.8046            0.8337      0.6457     0.5632\n",
              "Neg Pred Value                0.9741            0.9863      0.9596     0.9481\n",
              "Prevalence                    0.1000            0.1000      0.1000     0.1000\n",
              "Detection Rate                0.0766            0.0877      0.0636     0.0530\n",
              "Detection Prevalence          0.0952            0.1052      0.0985     0.0941\n",
              "Balanced Accuracy             0.8727            0.9288      0.7986     0.7422\n",
              "                     Class: deer Class: dog Class: frog Class: horse\n",
              "Sensitivity               0.6980     0.6010      0.8620       0.7680\n",
              "Specificity               0.9571     0.9706      0.9600       0.9832\n",
              "Pos Pred Value            0.6439     0.6940      0.7054       0.8357\n",
              "Neg Pred Value            0.9661     0.9563      0.9843       0.9745\n",
              "Prevalence                0.1000     0.1000      0.1000       0.1000\n",
              "Detection Rate            0.0698     0.0601      0.0862       0.0768\n",
              "Detection Prevalence      0.1084     0.0866      0.1222       0.0919\n",
              "Balanced Accuracy         0.8276     0.7858      0.9110       0.8756\n",
              "                     Class: ship Class: truck\n",
              "Sensitivity               0.8410       0.8110\n",
              "Specificity               0.9816       0.9821\n",
              "Pos Pred Value            0.8352       0.8344\n",
              "Neg Pred Value            0.9823       0.9791\n",
              "Prevalence                0.1000       0.1000\n",
              "Detection Rate            0.0841       0.0811\n",
              "Detection Prevalence      0.1007       0.0972\n",
              "Balanced Accuracy         0.9113       0.8966"
            ]
          },
          "metadata": {}
        }
      ],
      "metadata": {
        "colab": {
          "base_uri": "https://localhost:8080/",
          "height": 1000
        },
        "id": "VqM_CfK60UX-",
        "outputId": "31295775-0f22-4a91-e678-8f272455fa5b"
      }
    },
    {
      "cell_type": "code",
      "execution_count": null,
      "source": [
        "CrossTable(ctest_y,pred_test)"
      ],
      "outputs": [
        {
          "output_type": "stream",
          "name": "stdout",
          "text": [
            "\n",
            " \n",
            "   Cell Contents\n",
            "|-------------------------|\n",
            "|                       N |\n",
            "| Chi-square contribution |\n",
            "|           N / Row Total |\n",
            "|           N / Col Total |\n",
            "|         N / Table Total |\n",
            "|-------------------------|\n",
            "\n",
            " \n",
            "Total Observations in Table:  10000 \n",
            "\n",
            " \n",
            "             | pred_test \n",
            "     ctest_y |   airplane | automobile |       bird |        cat |       deer |        dog |       frog |      horse |       ship |      truck |  Row Total | \n",
            "-------------|------------|------------|------------|------------|------------|------------|------------|------------|------------|------------|------------|\n",
            "           0 |        835 |          6 |         47 |         19 |          5 |          2 |          9 |          6 |         45 |         26 |       1000 | \n",
            "             |   5571.299 |     84.873 |     30.843 |     87.349 |     92.844 |     79.048 |     81.124 |     83.080 |     31.290 |     54.853 |            | \n",
            "             |      0.835 |      0.006 |      0.047 |      0.019 |      0.005 |      0.002 |      0.009 |      0.006 |      0.045 |      0.026 |      0.100 | \n",
            "             |      0.856 |      0.006 |      0.045 |      0.016 |      0.005 |      0.002 |      0.009 |      0.006 |      0.044 |      0.026 |            | \n",
            "             |      0.084 |      0.001 |      0.005 |      0.002 |      0.001 |      0.000 |      0.001 |      0.001 |      0.004 |      0.003 |            | \n",
            "-------------|------------|------------|------------|------------|------------|------------|------------|------------|------------|------------|------------|\n",
            "           1 |         11 |        890 |          7 |          7 |          3 |          1 |          5 |          4 |         17 |         55 |       1000 | \n",
            "             |     76.840 |   6524.790 |     89.973 |    108.800 |     96.688 |     81.012 |     88.554 |     86.869 |     70.153 |     20.320 |            | \n",
            "             |      0.011 |      0.890 |      0.007 |      0.007 |      0.003 |      0.001 |      0.005 |      0.004 |      0.017 |      0.055 |      0.100 | \n",
            "             |      0.011 |      0.922 |      0.007 |      0.006 |      0.003 |      0.001 |      0.005 |      0.004 |      0.017 |      0.055 |            | \n",
            "             |      0.001 |      0.089 |      0.001 |      0.001 |      0.000 |      0.000 |      0.001 |      0.000 |      0.002 |      0.005 |            | \n",
            "-------------|------------|------------|------------|------------|------------|------------|------------|------------|------------|------------|------------|\n",
            "           2 |         40 |          3 |        740 |         57 |         61 |         34 |         36 |         16 |          9 |          4 |       1000 | \n",
            "             |     33.993 |     90.593 |   3914.321 |     34.944 |     16.867 |     28.928 |     39.484 |     65.403 |     84.100 |     92.260 |            | \n",
            "             |      0.040 |      0.003 |      0.740 |      0.057 |      0.061 |      0.034 |      0.036 |      0.016 |      0.009 |      0.004 |      0.100 | \n",
            "             |      0.041 |      0.003 |      0.715 |      0.047 |      0.059 |      0.041 |      0.037 |      0.017 |      0.009 |      0.004 |            | \n",
            "             |      0.004 |      0.000 |      0.074 |      0.006 |      0.006 |      0.003 |      0.004 |      0.002 |      0.001 |      0.000 |            | \n",
            "-------------|------------|------------|------------|------------|------------|------------|------------|------------|------------|------------|------------|\n",
            "           3 |         17 |          4 |         50 |        702 |         49 |         99 |         39 |         21 |         10 |          9 |       1000 | \n",
            "             |     66.561 |     88.666 |     27.655 |   2744.576 |     28.002 |      3.084 |     35.773 |     57.357 |     82.287 |     82.909 |            | \n",
            "             |      0.017 |      0.004 |      0.050 |      0.702 |      0.049 |      0.099 |      0.039 |      0.021 |      0.010 |      0.009 |      0.100 | \n",
            "             |      0.017 |      0.004 |      0.048 |      0.574 |      0.048 |      0.119 |      0.040 |      0.022 |      0.010 |      0.009 |            | \n",
            "             |      0.002 |      0.000 |      0.005 |      0.070 |      0.005 |      0.010 |      0.004 |      0.002 |      0.001 |      0.001 |            | \n",
            "-------------|------------|------------|------------|------------|------------|------------|------------|------------|------------|------------|------------|\n",
            "           4 |          7 |          2 |         78 |         65 |        772 |          8 |         26 |         36 |          5 |          1 |       1000 | \n",
            "             |     84.102 |     92.541 |      6.283 |     26.918 |   4367.411 |     67.771 |     53.177 |     36.385 |     91.547 |     98.110 |            | \n",
            "             |      0.007 |      0.002 |      0.078 |      0.065 |      0.772 |      0.008 |      0.026 |      0.036 |      0.005 |      0.001 |      0.100 | \n",
            "             |      0.007 |      0.002 |      0.075 |      0.053 |      0.752 |      0.010 |      0.026 |      0.038 |      0.005 |      0.001 |            | \n",
            "             |      0.001 |      0.000 |      0.008 |      0.006 |      0.077 |      0.001 |      0.003 |      0.004 |      0.001 |      0.000 |            | \n",
            "-------------|------------|------------|------------|------------|------------|------------|------------|------------|------------|------------|------------|\n",
            "           5 |          9 |          1 |         37 |        222 |         46 |        634 |         15 |         27 |          3 |          6 |       1000 | \n",
            "             |     80.430 |     94.510 |     42.727 |     81.047 |     31.224 |   3657.843 |     70.589 |     48.398 |     95.389 |     88.460 |            | \n",
            "             |      0.009 |      0.001 |      0.037 |      0.222 |      0.046 |      0.634 |      0.015 |      0.027 |      0.003 |      0.006 |      0.100 | \n",
            "             |      0.009 |      0.001 |      0.036 |      0.181 |      0.045 |      0.764 |      0.015 |      0.029 |      0.003 |      0.006 |            | \n",
            "             |      0.001 |      0.000 |      0.004 |      0.022 |      0.005 |      0.063 |      0.002 |      0.003 |      0.000 |      0.001 |            | \n",
            "-------------|------------|------------|------------|------------|------------|------------|------------|------------|------------|------------|------------|\n",
            "           6 |          3 |          3 |         34 |         74 |         25 |         11 |        840 |          2 |          5 |          3 |       1000 | \n",
            "             |     91.692 |     90.593 |     46.669 |     19.139 |     58.692 |     62.458 |   5596.326 |     90.742 |     91.547 |     94.190 |            | \n",
            "             |      0.003 |      0.003 |      0.034 |      0.074 |      0.025 |      0.011 |      0.840 |      0.002 |      0.005 |      0.003 |      0.100 | \n",
            "             |      0.003 |      0.003 |      0.033 |      0.060 |      0.024 |      0.013 |      0.855 |      0.002 |      0.005 |      0.003 |            | \n",
            "             |      0.000 |      0.000 |      0.003 |      0.007 |      0.003 |      0.001 |      0.084 |      0.000 |      0.001 |      0.000 |            | \n",
            "-------------|------------|------------|------------|------------|------------|------------|------------|------------|------------|------------|------------|\n",
            "           7 |          7 |          2 |         24 |         49 |         54 |         29 |          3 |        826 |          1 |          5 |       1000 | \n",
            "             |     84.102 |     92.541 |     61.065 |     44.016 |     23.021 |     35.133 |     92.392 |   5647.304 |     99.310 |     90.350 |            | \n",
            "             |      0.007 |      0.002 |      0.024 |      0.049 |      0.054 |      0.029 |      0.003 |      0.826 |      0.001 |      0.005 |      0.100 | \n",
            "             |      0.007 |      0.002 |      0.023 |      0.040 |      0.053 |      0.035 |      0.003 |      0.872 |      0.001 |      0.005 |            | \n",
            "             |      0.001 |      0.000 |      0.002 |      0.005 |      0.005 |      0.003 |      0.000 |      0.083 |      0.000 |      0.001 |            | \n",
            "-------------|------------|------------|------------|------------|------------|------------|------------|------------|------------|------------|------------|\n",
            "           8 |         32 |         16 |         11 |          9 |          8 |          6 |          5 |          0 |        897 |         16 |       1000 | \n",
            "             |     44.092 |     67.153 |     82.669 |    105.062 |     87.224 |     71.434 |     88.554 |     94.700 |   6250.133 |     70.657 |            | \n",
            "             |      0.032 |      0.016 |      0.011 |      0.009 |      0.008 |      0.006 |      0.005 |      0.000 |      0.897 |      0.016 |      0.100 | \n",
            "             |      0.033 |      0.017 |      0.011 |      0.007 |      0.008 |      0.007 |      0.005 |      0.000 |      0.885 |      0.016 |            | \n",
            "             |      0.003 |      0.002 |      0.001 |      0.001 |      0.001 |      0.001 |      0.001 |      0.000 |      0.090 |      0.002 |            | \n",
            "-------------|------------|------------|------------|------------|------------|------------|------------|------------|------------|------------|------------|\n",
            "           9 |         15 |         38 |          7 |         20 |          3 |          6 |          5 |          9 |         21 |        876 |       1000 | \n",
            "             |     69.905 |     35.464 |     89.973 |     85.668 |     96.688 |     71.434 |     88.554 |     77.555 |     63.653 |   6014.194 |            | \n",
            "             |      0.015 |      0.038 |      0.007 |      0.020 |      0.003 |      0.006 |      0.005 |      0.009 |      0.021 |      0.876 |      0.100 | \n",
            "             |      0.015 |      0.039 |      0.007 |      0.016 |      0.003 |      0.007 |      0.005 |      0.010 |      0.021 |      0.875 |            | \n",
            "             |      0.002 |      0.004 |      0.001 |      0.002 |      0.000 |      0.001 |      0.001 |      0.001 |      0.002 |      0.088 |            | \n",
            "-------------|------------|------------|------------|------------|------------|------------|------------|------------|------------|------------|------------|\n",
            "Column Total |        976 |        965 |       1035 |       1224 |       1026 |        830 |        983 |        947 |       1013 |       1001 |      10000 | \n",
            "             |      0.098 |      0.097 |      0.103 |      0.122 |      0.103 |      0.083 |      0.098 |      0.095 |      0.101 |      0.100 |            | \n",
            "-------------|------------|------------|------------|------------|------------|------------|------------|------------|------------|------------|------------|\n",
            "\n",
            " \n"
          ]
        }
      ],
      "metadata": {
        "colab": {
          "base_uri": "https://localhost:8080/"
        },
        "id": "zY3KZatu5mCN",
        "outputId": "f9e17604-bd67-48de-f535-1dd16295d75f"
      }
    }
  ]
}